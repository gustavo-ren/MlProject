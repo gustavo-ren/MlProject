{
 "cells": [
  {
   "cell_type": "code",
   "execution_count": null,
   "metadata": {},
   "outputs": [],
   "source": [
    "import pandas as pd\n",
    "import numpy as np\n",
    "import seaborn as sns\n",
    "import matplotlib.pyplot as plt\n",
    "\n",
    "import csv\n",
    "import re"
   ]
  },
  {
   "cell_type": "code",
   "execution_count": null,
   "metadata": {},
   "outputs": [],
   "source": [
    "def clear_numeric_fields(file: str):\n",
    "    r = csv.reader(open(file=file))\n",
    "    lines = list(r)\n",
    "    new_lines = []\n",
    "\n",
    "    for line in lines:\n",
    "        new_lines.append([re.sub(r'_$', '', el) for el in line])\n",
    "\n",
    "    with open(file=file, mode=\"w\", newline=\"\", encoding=\"utf-8\") as file:\n",
    "        writer = csv.writer(file)\n",
    "        writer.writerows(new_lines)\n"
   ]
  },
  {
   "cell_type": "code",
   "execution_count": null,
   "metadata": {},
   "outputs": [],
   "source": [
    "def input_pipeline(path: str) -> pd.DataFrame:\n",
    "\n",
    "    #clear_numeric_fields(path)\n",
    "\n",
    "    column_types = {\"ID\": str, #0\n",
    "                    \"Customer_ID\": str, #0\n",
    "                    \"Month\": str, #1\n",
    "                    \"Name\": str, #2\n",
    "                    \"Age\": np.int16, #3\n",
    "                    \"SSN\": str, #4\n",
    "                    \"Occupation\": str, #5\n",
    "                    \"Annual_Income\": np.float32, #6\n",
    "                    \"Monthly_Inhand_Salary\": np.float32, #7\n",
    "                    \"Num_Bank_Accounts\": np.int16, #8\n",
    "                    \"Num_Credit_Card\": np.int16, #9\n",
    "                    \"Interest_Rate\": np.float32, #10\n",
    "                    \"Num_of_Loan\": np.int16, #11\n",
    "                    \"Type_of_Loan\": str, #12\n",
    "                    \"Delay_from_due_date\": np.int16, #13\n",
    "                    \"Num_of_Delayed_Payment\": np.float16, #14\n",
    "                    \"Changed_Credit_Limit\": str,#np.float32, 15\n",
    "                    \"Num_Credit_Inquiries\": np.int16, #16\n",
    "                    \"Credit_Mix\": str, #17\n",
    "                    \"Outstanding_Debt\": np.float32, #18\n",
    "                    \"Credit_Utilization_Ratio\": np.float32, #19\n",
    "                    \"Credit_History_Age\": str, #20\n",
    "                    \"Payment_of_Min_Amount\": str, #21\n",
    "                    \"Total_EMI_per_month\": np.float32, #22\n",
    "                    \"Amount_invested_monthly\": np.float32, #23\n",
    "                    \"Payment_Behaviour\": str, #24\n",
    "                    \"Monthly_Balance\": np.float32, #25\n",
    "                    \"Credit_Score\": str} #26 dtype=column_types, \n",
    "    \n",
    "    ofJedi = pd.read_csv(filepath_or_buffer=path, on_bad_lines=\"skip\")\n",
    "    ofJedi.fillna(value=0, axis=0, inplace=True)\n",
    "\n",
    "    ofJedi[\"Age\"] = ofJedi[\"Age\"].str.replace(pat=r\"_*\", repl=\"\", regex=True)\n",
    "    ofJedi[\"Annual_Income\"] = ofJedi[\"Annual_Income\"].str.replace(pat=r\"_*\", repl=\"\", regex=True)\n",
    "    ofJedi[\"Num_of_Loan\"] = ofJedi[\"Num_of_Loan\"].str.replace(pat=r\"_*\", repl=\"\", regex=True)\n",
    "    ofJedi[\"Num_of_Delayed_Payment\"] = ofJedi[\"Num_of_Delayed_Payment\"].str.replace(pat=r\"_*\", repl=\"\", regex=True)\n",
    "    ofJedi[\"Amount_invested_monthly\"] = ofJedi[\"Amount_invested_monthly\"].str.replace(pat=r\"_*\", repl=\"\", regex=True)\n",
    "    #ofJedi[\"Changed_Credit_Limit\"] = ofJedi[\"Changed_Credit_Limit\"].str.replace(pat=r\"_*\", repl=\"\", regex=True)\n",
    "    #ofJedi[\"Changed_Credit_Limit\"] = ofJedi[\"Changed_Credit_Limit\"].str.replace(pat=\"0-\", repl=\"-\")\n",
    "    #ofJedi[\"Changed_Credit_Limit\"] = ofJedi[\"Changed_Credit_Limit\"].str.replace(pat=\"\", repl=\"0\")\n",
    "    ofJedi[\"Monthly_Balance\"] = ofJedi[\"Monthly_Balance\"].str.replace(pat=r\"_*\", repl=\"\", regex=True)\n",
    "    ofJedi[\"Outstanding_Debt\"] = ofJedi[\"Outstanding_Debt\"].str.replace(pat=r\"_*$\", repl=\"\", regex=True)\n",
    "\n",
    "    ofJedi = ofJedi.astype(dtype=column_types)\n",
    "    ofJedi.drop(columns=[\"ID\", \"Customer_ID\", \"Name\", \"SSN\", \"Month\", \"Occupation\"], inplace=True)\n",
    "\n",
    "    return ofJedi"
   ]
  },
  {
   "cell_type": "code",
   "execution_count": null,
   "metadata": {},
   "outputs": [],
   "source": [
    "def count_null_rows(df):\n",
    "    for col in df.columns:\n",
    "        na_sum = df[col].isna().sum()\n",
    "        sum = len(df)\n",
    "        \n",
    "        if na_sum > 0:\n",
    "            print(\"{0}:\\t{1}\".format(col, (na_sum/sum)))"
   ]
  },
  {
   "cell_type": "code",
   "execution_count": null,
   "metadata": {},
   "outputs": [],
   "source": [
    "def credit_history_age_clean(df):\n",
    "    df.dropna(subset=[\"Credit_History_Age\"], inplace=True)\n",
    "    df[\"Credit_History_Age\"] = df[\"Credit_History_Age\"].str.slice(start=0, stop=2).astype(dtype=int)"
   ]
  },
  {
   "cell_type": "code",
   "execution_count": null,
   "metadata": {},
   "outputs": [],
   "source": [
    "def check_objects_per(df: pd.DataFrame) -> None:\n",
    "    count_rows = len(df)\n",
    "    for col in df.columns:\n",
    "        if df[col].dtype == object:\n",
    "            print(col)\n",
    "            print(df[col].value_counts()/count_rows)\n",
    "            print(\"\\n\")"
   ]
  },
  {
   "cell_type": "code",
   "execution_count": null,
   "metadata": {},
   "outputs": [],
   "source": [
    "def age_cleaner(df: pd.DataFrame, min_age: int, max_age: int) -> pd.DataFrame:\n",
    "    return df.query(\"Age >= @min_age & Age <= @max_age\")"
   ]
  },
  {
   "cell_type": "code",
   "execution_count": null,
   "metadata": {},
   "outputs": [],
   "source": [
    "def age_analysis(x: pd.Series) -> None:\n",
    "    print(x.head())\n",
    "    print(\"Stardard Deviation:\\t{0}\\nMean:\\t{1}\\nVariance:\\t{2}\\nMaximum:\\t{3}\\nMinimum:\\t{4}\".format(x.std(), x.mean(), x.var(), x.max(), x.min()))\n",
    "\n",
    "    print(x.describe())\n",
    "\n",
    "    print(\"\\nLength over 80:\\t{0}\".format(len(x[x > 80])))\n",
    "    print(\"\\nLength under 18:\\t{0}\".format(len(x[x < 18])))\n",
    "\n",
    "    print(\"\\nPercentage over 80:\\t{0}\".format(len(x[x > 80])/len(x)))\n",
    "    print(\"\\nPercentage under 18:\\t{0}\".format(len(x[x < 18])/len(x)))\n",
    "\n",
    "    sns.boxplot(x=x)\n",
    "    sns.displot(data=x, kind=\"kde\")\n",
    "    plt.show()"
   ]
  },
  {
   "cell_type": "code",
   "execution_count": null,
   "metadata": {},
   "outputs": [],
   "source": [
    "def anual_income_analysis(x: pd.DataFrame) -> None:\n",
    "    # Annual_Income\", \"Credit_Score\"\n",
    "    print(x[\"Annual_Income\"].describe().apply(lambda i: format(i, \"f\")))\n",
    "\n",
    "    sns.boxplot(x=x[\"Annual_Income\"].apply(lambda i: format(i, \"f\")), y=x[\"Credit_Score\"], native_scale=True, log_scale=False)\n",
    "    sns.displot(data=x, kind=\"kde\")\n",
    "    plt.show()"
   ]
  },
  {
   "cell_type": "code",
   "execution_count": null,
   "metadata": {},
   "outputs": [],
   "source": [
    "def generate_boxplot(df: pd.DataFrame) -> None:\n",
    "    for col in df.columns:\n",
    "        if df[col] != object:\n",
    "            print(sns.boxplot(data=df[col]))"
   ]
  },
  {
   "cell_type": "code",
   "execution_count": null,
   "metadata": {},
   "outputs": [],
   "source": [
    "credit_df = input_pipeline(path=\"train.csv\")\n",
    "credit_df.head()"
   ]
  },
  {
   "cell_type": "code",
   "execution_count": null,
   "metadata": {},
   "outputs": [],
   "source": [
    "for col in credit_df.columns:\n",
    "    print(\"{0}:\\t{1}\".format(col, credit_df[col].isna().sum()))"
   ]
  },
  {
   "cell_type": "code",
   "execution_count": null,
   "metadata": {},
   "outputs": [],
   "source": [
    "len(credit_df)"
   ]
  },
  {
   "cell_type": "code",
   "execution_count": null,
   "metadata": {},
   "outputs": [],
   "source": [
    "for col in credit_df.columns:\n",
    "    na_sum = credit_df[col].isna().sum()\n",
    "    sum = len(credit_df)\n",
    "\n",
    "    if na_sum > 0 and credit_df[col].dtype==object:\n",
    "        print(\"{0}:\\t{1}\".format(col, (na_sum/sum)))"
   ]
  },
  {
   "cell_type": "code",
   "execution_count": null,
   "metadata": {},
   "outputs": [],
   "source": [
    "credit_df[credit_df[\"Type_of_Loan\"].isna() & credit_df[\"Credit_History_Age\"].isna()]"
   ]
  },
  {
   "cell_type": "markdown",
   "metadata": {},
   "source": [
    "Type_of_Loan is too sparse, and too many nan values"
   ]
  },
  {
   "cell_type": "code",
   "execution_count": null,
   "metadata": {},
   "outputs": [],
   "source": [
    "credit_df[\"Type_of_Loan\"].value_counts()"
   ]
  },
  {
   "cell_type": "code",
   "execution_count": null,
   "metadata": {},
   "outputs": [],
   "source": [
    "credit_df.drop(columns=[\"Type_of_Loan\"], inplace=True)\n",
    "credit_df"
   ]
  },
  {
   "cell_type": "code",
   "execution_count": null,
   "metadata": {},
   "outputs": [],
   "source": [
    "count_null_rows(df=credit_df)"
   ]
  },
  {
   "cell_type": "code",
   "execution_count": null,
   "metadata": {},
   "outputs": [],
   "source": [
    "credit_df[\"Credit_History_Age\"].value_counts()"
   ]
  },
  {
   "cell_type": "code",
   "execution_count": null,
   "metadata": {},
   "outputs": [],
   "source": [
    "credit_history_age_clean(credit_df)\n",
    "credit_df"
   ]
  },
  {
   "cell_type": "code",
   "execution_count": null,
   "metadata": {},
   "outputs": [],
   "source": [
    "count_null_rows(credit_df)"
   ]
  },
  {
   "cell_type": "code",
   "execution_count": null,
   "metadata": {},
   "outputs": [],
   "source": [
    "credit_df.dropna(inplace=True)\n",
    "credit_df"
   ]
  },
  {
   "cell_type": "code",
   "execution_count": null,
   "metadata": {},
   "outputs": [],
   "source": [
    "for col in credit_df.columns:\n",
    "    if credit_df[col].dtype == object:\n",
    "        print(col)\n",
    "        print(credit_df[col].value_counts())\n",
    "        print(\"\\n\")"
   ]
  },
  {
   "cell_type": "code",
   "execution_count": null,
   "metadata": {},
   "outputs": [],
   "source": [
    "credit_df[col].value_counts()"
   ]
  },
  {
   "cell_type": "code",
   "execution_count": null,
   "metadata": {},
   "outputs": [],
   "source": [
    "credit_df[\"Credit_Score\"].value_counts()/2"
   ]
  },
  {
   "cell_type": "code",
   "execution_count": null,
   "metadata": {},
   "outputs": [],
   "source": [
    "check_objects_per(df=credit_df)"
   ]
  },
  {
   "cell_type": "code",
   "execution_count": null,
   "metadata": {},
   "outputs": [],
   "source": [
    "credit_df.drop(index=credit_df[credit_df.Payment_Behaviour == \"!@9#%8\"].index, inplace=True)"
   ]
  },
  {
   "cell_type": "code",
   "execution_count": null,
   "metadata": {},
   "outputs": [],
   "source": [
    "credit_df.drop(index=credit_df[credit_df.Credit_Mix == \"_\"].index, inplace=True)"
   ]
  },
  {
   "cell_type": "code",
   "execution_count": null,
   "metadata": {},
   "outputs": [],
   "source": [
    "check_objects_per(df=credit_df)"
   ]
  },
  {
   "cell_type": "code",
   "execution_count": null,
   "metadata": {},
   "outputs": [],
   "source": [
    "len(credit_df)"
   ]
  },
  {
   "cell_type": "code",
   "execution_count": null,
   "metadata": {},
   "outputs": [],
   "source": [
    "credit_df.columns"
   ]
  },
  {
   "cell_type": "code",
   "execution_count": null,
   "metadata": {},
   "outputs": [],
   "source": [
    "credit_df.reset_index(drop=True, inplace=True)\n",
    "credit_df"
   ]
  },
  {
   "cell_type": "markdown",
   "metadata": {},
   "source": [
    "Age analysis"
   ]
  },
  {
   "cell_type": "code",
   "execution_count": null,
   "metadata": {},
   "outputs": [],
   "source": [
    "age_analysis(credit_df[\"Age\"])"
   ]
  },
  {
   "cell_type": "code",
   "execution_count": null,
   "metadata": {},
   "outputs": [],
   "source": [
    "credit_df.groupby(by=[\"Credit_Score\"]).agg({\"Age\": \"mean\"})"
   ]
  },
  {
   "cell_type": "code",
   "execution_count": null,
   "metadata": {},
   "outputs": [],
   "source": [
    "credit_df = age_cleaner(credit_df, 18, 80)\n",
    "age_analysis(credit_df[\"Age\"])"
   ]
  },
  {
   "cell_type": "code",
   "execution_count": null,
   "metadata": {},
   "outputs": [],
   "source": [
    "credit_df.groupby(by=[\"Credit_Score\"]).agg({\"Age\": \"mean\"})"
   ]
  },
  {
   "cell_type": "markdown",
   "metadata": {},
   "source": [
    "### Annual_Income Analysis"
   ]
  },
  {
   "cell_type": "code",
   "execution_count": null,
   "metadata": {},
   "outputs": [],
   "source": [
    "anual_income_analysis(x=credit_df.loc[:,[\"Annual_Income\", \"Credit_Score\"]])"
   ]
  }
 ],
 "metadata": {
  "kernelspec": {
   "display_name": "tensorflow_env",
   "language": "python",
   "name": "python3"
  },
  "language_info": {
   "codemirror_mode": {
    "name": "ipython",
    "version": 3
   },
   "file_extension": ".py",
   "mimetype": "text/x-python",
   "name": "python",
   "nbconvert_exporter": "python",
   "pygments_lexer": "ipython3",
   "version": "3.9.18"
  }
 },
 "nbformat": 4,
 "nbformat_minor": 2
}
